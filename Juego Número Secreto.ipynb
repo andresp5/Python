{
 "cells": [
  {
   "cell_type": "code",
   "execution_count": 1,
   "id": "3a70d4dc",
   "metadata": {},
   "outputs": [
    {
     "name": "stdout",
     "output_type": "stream",
     "text": [
      "Dime tu nombre: Andres\n",
      "\n",
      "\n",
      "Hola Andres, he pensado un número del 1 al 100 y tienes que adivinarlo,\n",
      "solo tienes 8 intentos para conseguirlo\n",
      "\n",
      "\n",
      "Introduce un numero: 50\n",
      "El número que he pensado es MENOR al que has dicho\n",
      "Introduce un numero: 25\n",
      "El número que he pensado es MAYOR al que has dicho\n",
      "Introduce un numero: 35\n",
      "El número que he pensado es MENOR al que has dicho\n",
      "Introduce un numero: 30\n",
      "El número que he pensado es MENOR al que has dicho\n",
      "Introduce un numero: 29\n",
      "El número que he pensado es MENOR al que has dicho\n",
      "Introduce un numero: 28\n",
      "El número que he pensado es MENOR al que has dicho\n",
      "Introduce un numero: 27\n",
      "El número que he pensado es MENOR al que has dicho\n",
      "Introduce un numero: 26\n",
      "Lo lograste Andres!!Has consumido un total de 8 intentos\n"
     ]
    }
   ],
   "source": [
    "from random import randint\n",
    "numero_secreto = randint(1, 100)\n",
    "\n",
    "nombre_jugador = input(\"Dime tu nombre: \")\n",
    "intentos = 0\n",
    "numero_introducido = 0\n",
    "\n",
    "print(\"\\n\")\n",
    "\n",
    "print(f\"\"\"Hola {nombre_jugador}, he pensado un número del 1 al 100 y tienes que adivinarlo,\n",
    "solo tienes 8 intentos para conseguirlo\"\"\")\n",
    "\n",
    "print(\"\\n\")\n",
    "\n",
    "while intentos <= 8:\n",
    "    numero_introducido = int(input(\"Introduce un numero: \"))\n",
    "    intentos += 1\n",
    "    if numero_introducido not in range(1,101):\n",
    "        print(\"Solo puedes usar un número comprendido entre el 1 y el 100\")\n",
    "    elif numero_introducido > numero_secreto:\n",
    "        print(\"El número que he pensado es MENOR al que has dicho\")\n",
    "    elif numero_introducido < numero_secreto:\n",
    "        print(\"El número que he pensado es MAYOR al que has dicho\")\n",
    "    else:\n",
    "        print(f\"Lo lograste {nombre_jugador}!!Has consumido un total de {intentos} intentos\")\n",
    "        break\n",
    "if numero_introducido != numero_secreto:\n",
    "    print(f\"Lo sentimos {nombre_jugador}, se han agotado los intentos. El número correcto era {numero_secreto}\")"
   ]
  }
 ],
 "metadata": {
  "kernelspec": {
   "display_name": "Python 3 (ipykernel)",
   "language": "python",
   "name": "python3"
  },
  "language_info": {
   "codemirror_mode": {
    "name": "ipython",
    "version": 3
   },
   "file_extension": ".py",
   "mimetype": "text/x-python",
   "name": "python",
   "nbconvert_exporter": "python",
   "pygments_lexer": "ipython3",
   "version": "3.10.9"
  },
  "varInspector": {
   "cols": {
    "lenName": 16,
    "lenType": 16,
    "lenVar": 40
   },
   "kernels_config": {
    "python": {
     "delete_cmd_postfix": "",
     "delete_cmd_prefix": "del ",
     "library": "var_list.py",
     "varRefreshCmd": "print(var_dic_list())"
    },
    "r": {
     "delete_cmd_postfix": ") ",
     "delete_cmd_prefix": "rm(",
     "library": "var_list.r",
     "varRefreshCmd": "cat(var_dic_list()) "
    }
   },
   "types_to_exclude": [
    "module",
    "function",
    "builtin_function_or_method",
    "instance",
    "_Feature"
   ],
   "window_display": false
  }
 },
 "nbformat": 4,
 "nbformat_minor": 5
}
