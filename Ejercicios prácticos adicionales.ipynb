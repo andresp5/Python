{
 "cells": [
  {
   "cell_type": "markdown",
   "id": "217531d8",
   "metadata": {},
   "source": [
    "#### Esta función busca los inmuebles que están dentro del rango estipulado"
   ]
  },
  {
   "cell_type": "code",
   "execution_count": 27,
   "id": "c52e3ff4",
   "metadata": {},
   "outputs": [
    {
     "name": "stdout",
     "output_type": "stream",
     "text": [
      "[{'año': 1980, 'metros': 120, 'habitaciones': 4, 'garaje': False, 'zona': 'A', 'precio': 84000.0}, {'año': 2015, 'metros': 90, 'habitaciones': 2, 'garaje': False, 'zona': 'A', 'precio': 95000.0}]\n"
     ]
    }
   ],
   "source": [
    "pisos = [{'año': 2000, 'metros': 100, 'habitaciones': 3, 'garaje': True, 'zona': 'A'},\n",
    "         {'año': 2012, 'metros': 60, 'habitaciones': 2, 'garaje': True, 'zona': 'B'},\n",
    "         {'año': 1980, 'metros': 120, 'habitaciones': 4, 'garaje': False, 'zona': 'A'},\n",
    "         {'año': 2005, 'metros': 75, 'habitaciones': 3, 'garaje': True, 'zona': 'B'},\n",
    "         {'año': 2015, 'metros': 90, 'habitaciones': 2, 'garaje': False, 'zona': 'A'}]\n",
    "\n",
    "def dar_precio(piso):\n",
    "    precio = (piso['metros'] * 1000 + piso['habitaciones'] * 5000 + int(piso['garaje']) * 15000) * (1 - (2020 - piso['año']) / 100)\n",
    "    if piso['zona'] == 'B':\n",
    "        precio *= 1.5\n",
    "    piso['precio'] = precio\n",
    "    return piso\n",
    "\n",
    "def busca_piso(pisos, presupuesto):\n",
    "    def filtro(piso):\n",
    "        return piso['precio'] <= presupuesto\n",
    "\n",
    "    return list(filter(filtro,map(dar_precio, pisos)))\n",
    "\n",
    "print(busca_piso(pisos, 100000))"
   ]
  },
  {
   "cell_type": "markdown",
   "id": "266fb7ef",
   "metadata": {},
   "source": [
    "#### Calculadora científica"
   ]
  },
  {
   "cell_type": "code",
   "execution_count": 29,
   "id": "d5b525ec",
   "metadata": {},
   "outputs": [
    {
     "name": "stdout",
     "output_type": "stream",
     "text": [
      "Introduce la función a aplicar (sin, cos, tan, exp, log): sin\n",
      "Introduce un entero positivo: 5\n",
      "1 \t 0.8414709848078965\n",
      "2 \t 0.9092974268256817\n",
      "3 \t 0.1411200080598672\n",
      "4 \t -0.7568024953079282\n",
      "5 \t -0.9589242746631385\n"
     ]
    }
   ],
   "source": [
    "from math import sin, cos, tan, exp, log\n",
    "\n",
    "def apply_function(f, n):\n",
    "    '''\n",
    "    Función que aplica una función a los enteros desde 1 hasta n.\n",
    "    Parámetros:\n",
    "        f: Es una función que recibe un número real y devuelve otro.\n",
    "        n: Es un número entero positivo.\n",
    "    Devuelve:\n",
    "        Un diccionario con los pares i:f(i) para cada valor entero i de 1 a n.\n",
    "    '''\n",
    "    functions = {'sin':sin, 'cos':cos, 'tan':tan, 'exp':exp, 'log':log}\n",
    "    result = {}\n",
    "    for i in range(1, n+1):\n",
    "        result[i] = functions[f](i)\n",
    "    return result\n",
    "\n",
    "def calculator():\n",
    "    '''\n",
    "    Función que aplica una función seleccionada por el usuario (seno, coseno, tangente, exponencial o logarítmo) a la lista de enteros desde 1 hasta n.\n",
    "    Imprime por pantalla una tabla con la secuencia de enteros y el resultado de aplicarles la función introducida.\n",
    "    Parámetros:\n",
    "        f: Es una cadena con la función a aplicar (sin, cos, tan, exp o log).\n",
    "        n: Es un entero positivo.\n",
    "    '''\n",
    "    f = input('Introduce la función a aplicar (sin, cos, tan, exp, log): ')\n",
    "    n = int(input('Introduce un entero positivo: '))\n",
    "    for i, j in apply_function(f, n).items():\n",
    "        print (i, '\\t', j)\n",
    "    return\n",
    "\n",
    "calculator()\n"
   ]
  },
  {
   "cell_type": "markdown",
   "id": "8da0fb09",
   "metadata": {},
   "source": [
    "#### Función que devuelve la calificación correspondiente a una nota."
   ]
  },
  {
   "cell_type": "code",
   "execution_count": 32,
   "id": "82e7993d",
   "metadata": {},
   "outputs": [
    {
     "name": "stdout",
     "output_type": "stream",
     "text": [
      "['AP', 'AP', 'SS', 'NT', 'SS', 'SB', 'MH']\n"
     ]
    }
   ],
   "source": [
    "def grade(score):\n",
    "    '''\n",
    "    Parámetros:\n",
    "        score: Es un valor real entre 0 y 10.\n",
    "    Devuelve:\n",
    "        La calificación correspondiente a la nota score.\n",
    "    '''\n",
    "    if score < 5:\n",
    "        return 'SS'\n",
    "    elif score < 7:\n",
    "        return 'AP'\n",
    "    elif score < 9:\n",
    "        return 'NT'\n",
    "    elif score < 10:\n",
    "        return 'SB'\n",
    "    else:\n",
    "        return 'MH'\n",
    "\n",
    "def apply_grade(scores):\n",
    "    '''\n",
    "    Función que devuelve la calificación correspondiente a las notas de una lista dada.\n",
    "    Parámetros:\n",
    "        scores: Es una lista de valores reales entre 0 y 10.\n",
    "    Devuelve\n",
    "        La lista de calificaciones correspondiente a las notas de scores.\n",
    "    '''\n",
    "    return [grade(x) for x in scores]\n",
    "\n",
    "print(apply_grade([6.5, 5, 3.4, 8.2, 2.1, 9.7, 10]))"
   ]
  },
  {
   "cell_type": "markdown",
   "id": "ab3c3bb0",
   "metadata": {},
   "source": [
    "#### Esta función convierte de decimal a binario"
   ]
  },
  {
   "cell_type": "code",
   "execution_count": 33,
   "id": "3f523e49",
   "metadata": {},
   "outputs": [
    {
     "name": "stdout",
     "output_type": "stream",
     "text": [
      "11101\n"
     ]
    }
   ],
   "source": [
    "def decimal_a_binario(numero_decimal):\n",
    "    numero_binario = 0\n",
    "    multiplicador = 1\n",
    "\n",
    "    while numero_decimal != 0:\n",
    "        # se almacena el módulo en el orden correcto\n",
    "        numero_binario = numero_binario + numero_decimal % 2 * multiplicador\n",
    "        numero_decimal //= 2\n",
    "        multiplicador *= 10\n",
    "\n",
    "    return numero_binario\n",
    "\n",
    "print(decimal_a_binario(29))"
   ]
  },
  {
   "cell_type": "markdown",
   "id": "d314587b",
   "metadata": {},
   "source": [
    "#### Esta función convierte de binario a decimal"
   ]
  },
  {
   "cell_type": "code",
   "execution_count": 35,
   "id": "2955a07e",
   "metadata": {},
   "outputs": [
    {
     "name": "stdout",
     "output_type": "stream",
     "text": [
      "29\n"
     ]
    }
   ],
   "source": [
    "def to_decimal(n):\n",
    "    \"\"\"Función que convierte un número binario en decimal.\n",
    "    Parámetros:\n",
    "        - n: Es una cadena de ceros y unos.\n",
    "    Devuelve:\n",
    "        El número decimal correspondiente a n.\n",
    "    \"\"\"\n",
    "    n = list(n)\n",
    "    n.reverse()\n",
    "    decimal = 0\n",
    "    for i in range(len(n)):\n",
    "        decimal += int(n[i]) * 2 ** i\n",
    "    return decimal\n",
    "\n",
    "print(to_decimal('11101'))"
   ]
  },
  {
   "cell_type": "markdown",
   "id": "da901401",
   "metadata": {},
   "source": [
    "#### Función que cuenta el número de veces que aparece cada palabra en un texto."
   ]
  },
  {
   "cell_type": "code",
   "execution_count": 37,
   "id": "95c2b7f3",
   "metadata": {},
   "outputs": [
    {
     "name": "stdout",
     "output_type": "stream",
     "text": [
      "{'Como': 1, 'quieres': 1, 'que': 4, 'te': 1, 'quiera': 3, 'si': 1, 'el': 1, 'quiero': 2, 'me': 3, 'no': 1, 'quiere': 1, 'como': 1}\n",
      "('que', 4)\n"
     ]
    }
   ],
   "source": [
    "\n",
    "def count_words(text):\n",
    "    \"\"\"\n",
    "    Parámetros:\n",
    "        - text: Es una cadena de caracteres.\n",
    "    Devuelve:\n",
    "        Un diccionario con pares palabra:frecuencia con las palabras contenidas en el texto y su frecuencia.\n",
    "    \"\"\"\n",
    "    text = text.split()\n",
    "    words = {}\n",
    "    for i in text:\n",
    "        if i in words:\n",
    "            words[i] += 1\n",
    "        else:\n",
    "            words[i] = 1\n",
    "    return words\n",
    "\n",
    "\n",
    "def most_repeated(words):\n",
    "    max_word = ''\n",
    "    max_freq = 0\n",
    "    for word, freq in words.items():\n",
    "        if freq > max_freq:\n",
    "            max_word = word\n",
    "            max_freq = freq\n",
    "    return max_word, max_freq\n",
    "\n",
    "text = 'Como quieres que te quiera si el que quiero que me quiera no me quiere como quiero que me quiera'\n",
    "print(count_words(text))\n",
    "print(most_repeated(count_words(text)))"
   ]
  },
  {
   "cell_type": "markdown",
   "id": "bd3209b1",
   "metadata": {},
   "source": [
    "#### En esta funcion se intenta averiguar el café mas caro. Primero definimos las variables a utilizar y despues le ponemos el loop y el condicional para que busque el valor mas caro"
   ]
  },
  {
   "cell_type": "code",
   "execution_count": 5,
   "id": "753185ab",
   "metadata": {},
   "outputs": [
    {
     "name": "stdout",
     "output_type": "stream",
     "text": [
      "(3.5, 'Makiato')\n"
     ]
    }
   ],
   "source": [
    "tipos_de_cafe = [(\"Capuchino\", 2.5), (\"Expresso\", 1.5), (\"Makiato\", 3.5)]\n",
    "\n",
    "def cafe_mas_caro(lista_precios):\n",
    "\n",
    "    precio_mayor = 0\n",
    "    nombre_cafe_caro = \"\"\n",
    "\n",
    "    for cafe,precio in lista_precios:\n",
    "        if precio > precio_mayor:\n",
    "            precio_mayor = precio\n",
    "            nombre_cafe_caro = cafe\n",
    "        else:\n",
    "            pass\n",
    "    return (precio_mayor,nombre_cafe_caro)\n",
    "\n",
    "print(cafe_mas_caro(tipos_de_cafe))"
   ]
  },
  {
   "cell_type": "markdown",
   "id": "a9c4b116",
   "metadata": {},
   "source": [
    "#### Esta función calcula el numero total de numeros de primos existentes en el numero dado"
   ]
  },
  {
   "cell_type": "code",
   "execution_count": 9,
   "id": "6ec5cd9b",
   "metadata": {},
   "outputs": [
    {
     "name": "stdout",
     "output_type": "stream",
     "text": [
      "6\n",
      "[2, 3, 5, 7, 11, 13, 17, 19, 23, 29, 31, 37, 41, 43, 47]\n",
      "15\n"
     ]
    }
   ],
   "source": [
    "def contar_primos(numero):\n",
    "\n",
    "    primos = [2]\n",
    "\n",
    "    iteracion = 3\n",
    "\n",
    "    if numero < 2:\n",
    "        return 0\n",
    "\n",
    "    while iteracion <= numero:\n",
    "\n",
    "        for n in range(3, iteracion, 2):\n",
    "\n",
    "            if iteracion % n == 0:\n",
    "                iteracion += 2\n",
    "                break\n",
    "        else:\n",
    "            primos.append(iteracion)\n",
    "            iteracion += 2\n",
    "    print(primos)\n",
    "    return len(primos)\n",
    "\n",
    "print(contar_primos(50))"
   ]
  },
  {
   "cell_type": "code",
   "execution_count": null,
   "id": "8e238bd2",
   "metadata": {},
   "outputs": [],
   "source": []
  },
  {
   "cell_type": "code",
   "execution_count": null,
   "id": "22233395",
   "metadata": {},
   "outputs": [],
   "source": []
  },
  {
   "cell_type": "code",
   "execution_count": null,
   "id": "97dea1bc",
   "metadata": {},
   "outputs": [],
   "source": []
  },
  {
   "cell_type": "code",
   "execution_count": null,
   "id": "0847f113",
   "metadata": {},
   "outputs": [],
   "source": []
  },
  {
   "cell_type": "code",
   "execution_count": null,
   "id": "30068053",
   "metadata": {},
   "outputs": [],
   "source": []
  },
  {
   "cell_type": "code",
   "execution_count": null,
   "id": "114ac97b",
   "metadata": {},
   "outputs": [],
   "source": []
  },
  {
   "cell_type": "code",
   "execution_count": null,
   "id": "1bb123d9",
   "metadata": {},
   "outputs": [],
   "source": []
  },
  {
   "cell_type": "code",
   "execution_count": null,
   "id": "168e3c65",
   "metadata": {},
   "outputs": [],
   "source": []
  },
  {
   "cell_type": "code",
   "execution_count": null,
   "id": "0dbc87d9",
   "metadata": {},
   "outputs": [],
   "source": []
  },
  {
   "cell_type": "code",
   "execution_count": null,
   "id": "2c436136",
   "metadata": {},
   "outputs": [],
   "source": []
  }
 ],
 "metadata": {
  "kernelspec": {
   "display_name": "Python 3 (ipykernel)",
   "language": "python",
   "name": "python3"
  },
  "language_info": {
   "codemirror_mode": {
    "name": "ipython",
    "version": 3
   },
   "file_extension": ".py",
   "mimetype": "text/x-python",
   "name": "python",
   "nbconvert_exporter": "python",
   "pygments_lexer": "ipython3",
   "version": "3.10.9"
  },
  "varInspector": {
   "cols": {
    "lenName": 16,
    "lenType": 16,
    "lenVar": 40
   },
   "kernels_config": {
    "python": {
     "delete_cmd_postfix": "",
     "delete_cmd_prefix": "del ",
     "library": "var_list.py",
     "varRefreshCmd": "print(var_dic_list())"
    },
    "r": {
     "delete_cmd_postfix": ") ",
     "delete_cmd_prefix": "rm(",
     "library": "var_list.r",
     "varRefreshCmd": "cat(var_dic_list()) "
    }
   },
   "types_to_exclude": [
    "module",
    "function",
    "builtin_function_or_method",
    "instance",
    "_Feature"
   ],
   "window_display": false
  }
 },
 "nbformat": 4,
 "nbformat_minor": 5
}
