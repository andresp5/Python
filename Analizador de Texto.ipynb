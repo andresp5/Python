{
 "cells": [
  {
   "cell_type": "code",
   "execution_count": 1,
   "id": "d89a230d",
   "metadata": {},
   "outputs": [
    {
     "name": "stdout",
     "output_type": "stream",
     "text": [
      "Escribe un texto :Hola que tal estas?\n",
      "Muy bien, ahora escribe una letra: a\n",
      "Muy bien, ahora escribe tu segunda letra: s\n",
      "Muy bien, ahora escribe tu tercera letra: o\n",
      "\n",
      "\n",
      "¿CUANTAS VECES APARECE CADA LETRA?\n",
      "\n",
      "La letra 'a' aparece 3 veces\n",
      "La letra 's' aparece 2 veces\n",
      "La letra 'o' aparece 1 veces\n",
      "\n",
      "\n",
      "¿CUANTAS PALABRAS HAY EN TOTAL?\n",
      "\n",
      "Tu texto tiene un total de 4 palabras\n",
      "\n",
      "\n",
      "¿CUAL ES LA PRIMERA Y ULTIMA LETRA DE TU TEXTO?\n",
      "\n",
      "La primera letra de tu texto es 'h'\n",
      "La ultima letra de tu texto es '?'\n",
      "\n",
      "\n",
      "¿COMO SE LEERIA TU TEXTO EN ORDEN INVERSO?\n",
      "\n",
      "Tu texto se leeria 'estas? tal que hola' en orden inverso\n",
      "\n",
      "\n",
      "¿APARECE PYTHON EN EL TEXTO?\n",
      "La palabra Python no se encuentra en el texto\n"
     ]
    }
   ],
   "source": [
    "texto = input(\"Escribe un texto :\").lower()\n",
    "letras = []\n",
    "\n",
    "letras.append(input(\"Muy bien, ahora escribe una letra: \").lower())\n",
    "letras.append(input(\"Muy bien, ahora escribe tu segunda letra: \").lower())\n",
    "letras.append(input(\"Muy bien, ahora escribe tu tercera letra: \").lower())\n",
    "\n",
    "print(\"\\n\")\n",
    "\n",
    "print(\"¿CUANTAS VECES APARECE CADA LETRA?\" + \"\\n\")\n",
    "\n",
    "print(f\"La letra '{letras[0]}' aparece {texto.count(letras[0])} veces\")\n",
    "print(f\"La letra '{letras[1]}' aparece {texto.count(letras[1])} veces\")\n",
    "print(f\"La letra '{letras[2]}' aparece {texto.count(letras[2])} veces\")\n",
    "\n",
    "print(\"\\n\")\n",
    "\n",
    "print(\"¿CUANTAS PALABRAS HAY EN TOTAL?\" + \"\\n\")\n",
    "\n",
    "numero_palabras = texto.split()\n",
    "numero_palabras = list(numero_palabras)\n",
    "\n",
    "print(f\"Tu texto tiene un total de {len(numero_palabras)} palabras\")\n",
    "\n",
    "print(\"\\n\")\n",
    "\n",
    "print(\"¿CUAL ES LA PRIMERA Y ULTIMA LETRA DE TU TEXTO?\" + \"\\n\")\n",
    "\n",
    "print(f\"La primera letra de tu texto es '{texto[0]}'\")\n",
    "print(f\"La ultima letra de tu texto es '{texto[-1]}'\")\n",
    "\n",
    "print(\"\\n\")\n",
    "\n",
    "print(\"¿COMO SE LEERIA TU TEXTO EN ORDEN INVERSO?\" + \"\\n\")\n",
    "\n",
    "numero_palabras.reverse()\n",
    "texto_invertido = ' '.join(numero_palabras)\n",
    "print(f\"Tu texto se leeria '{texto_invertido}' en orden inverso\")\n",
    "\n",
    "print(\"\\n\")\n",
    "\n",
    "print(\"¿APARECE PYTHON EN EL TEXTO?\")\n",
    "\n",
    "python = \"python\" in texto\n",
    "resultado = {True: \"si\", False: \"no\"}\n",
    "\n",
    "print(f\"La palabra Python {resultado[python]} se encuentra en el texto\")"
   ]
  }
 ],
 "metadata": {
  "kernelspec": {
   "display_name": "Python 3 (ipykernel)",
   "language": "python",
   "name": "python3"
  },
  "language_info": {
   "codemirror_mode": {
    "name": "ipython",
    "version": 3
   },
   "file_extension": ".py",
   "mimetype": "text/x-python",
   "name": "python",
   "nbconvert_exporter": "python",
   "pygments_lexer": "ipython3",
   "version": "3.10.9"
  },
  "varInspector": {
   "cols": {
    "lenName": 16,
    "lenType": 16,
    "lenVar": 40
   },
   "kernels_config": {
    "python": {
     "delete_cmd_postfix": "",
     "delete_cmd_prefix": "del ",
     "library": "var_list.py",
     "varRefreshCmd": "print(var_dic_list())"
    },
    "r": {
     "delete_cmd_postfix": ") ",
     "delete_cmd_prefix": "rm(",
     "library": "var_list.r",
     "varRefreshCmd": "cat(var_dic_list()) "
    }
   },
   "types_to_exclude": [
    "module",
    "function",
    "builtin_function_or_method",
    "instance",
    "_Feature"
   ],
   "window_display": false
  }
 },
 "nbformat": 4,
 "nbformat_minor": 5
}
