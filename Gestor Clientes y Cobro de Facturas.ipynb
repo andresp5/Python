{
 "cells": [
  {
   "cell_type": "markdown",
   "id": "36f9869b",
   "metadata": {},
   "source": [
    "#### Gestor de clientes"
   ]
  },
  {
   "cell_type": "code",
   "execution_count": 2,
   "id": "4eb3ecbf",
   "metadata": {},
   "outputs": [
    {
     "name": "stdout",
     "output_type": "stream",
     "text": [
      "Que quieres hacer? \n",
      "(1) Añadir cliente \n",
      "(2) Eliminar cliente \n",
      "(3) Mostrar cliente \n",
      "(4) Listar todos los clientes \n",
      "(5) Listar clientes preferentes \n",
      "(6) Terminar: 1\n",
      "Introduce NIF del cliente: 74526024T\n",
      "Introduce el nombre del cliente: Aurelio\n",
      "Introduce la dirección del cliente: Madrid\n",
      "Introduce el teléfono del cliente: 647895621\n",
      "Introduce el correo electrónico del cliente: aurelio12@hotmail.com\n",
      "¿Es un cliente preferente (S/N)? S\n",
      "Que quieres hacer? \n",
      "(1) Añadir cliente \n",
      "(2) Eliminar cliente \n",
      "(3) Mostrar cliente \n",
      "(4) Listar todos los clientes \n",
      "(5) Listar clientes preferentes \n",
      "(6) Terminar: 4\n",
      "Lista de clientes\n",
      "74526024T Aurelio\n",
      "Que quieres hacer? \n",
      "(1) Añadir cliente \n",
      "(2) Eliminar cliente \n",
      "(3) Mostrar cliente \n",
      "(4) Listar todos los clientes \n",
      "(5) Listar clientes preferentes \n",
      "(6) Terminar: 3\n",
      "Introduce NIF del cliente: 74526024T\n",
      "NIF: 74526024T\n",
      "Nombre: Aurelio\n",
      "Dirección: Madrid\n",
      "Teléfono: 647895621\n",
      "Email: aurelio12@hotmail.com\n",
      "Preferente: True\n",
      "Que quieres hacer? \n",
      "(1) Añadir cliente \n",
      "(2) Eliminar cliente \n",
      "(3) Mostrar cliente \n",
      "(4) Listar todos los clientes \n",
      "(5) Listar clientes preferentes \n",
      "(6) Terminar: 6\n"
     ]
    }
   ],
   "source": [
    "clientes = {}\n",
    "opcion = ''\n",
    "while opcion != '6':\n",
    "    if opcion == '1':\n",
    "        nif = input('Introduce NIF del cliente: ')\n",
    "        nombre = input('Introduce el nombre del cliente: ')\n",
    "        direccion = input('Introduce la dirección del cliente: ')\n",
    "        telefono = input('Introduce el teléfono del cliente: ')\n",
    "        email = input('Introduce el correo electrónico del cliente: ')\n",
    "        vip = input('¿Es un cliente preferente (S/N)? ')\n",
    "        cliente = {'nombre':nombre, 'dirección':direccion, 'teléfono':telefono, 'email':email, 'preferente':vip=='S'}\n",
    "        clientes[nif] = cliente\n",
    "    if opcion == '2':\n",
    "        nif = input('Introduce NIF del cliente: ')\n",
    "        if nif in clientes:\n",
    "            del clientes[nif]\n",
    "        else:\n",
    "            print('No existe el cliente con el nif', nif)\n",
    "    if opcion == '3':\n",
    "        nif = input('Introduce NIF del cliente: ')\n",
    "        if nif in clientes:\n",
    "            print('NIF:', nif)\n",
    "            for clave, valor in clientes[nif].items():\n",
    "                print(clave.title() + ':', valor)\n",
    "        else:\n",
    "            print('No existe el cliente con el nif', nif)\n",
    "    if opcion == '4':\n",
    "        print('Lista de clientes')\n",
    "        for clave, valor in clientes.items():\n",
    "            print(clave, valor['nombre'])\n",
    "    if opcion == '5':\n",
    "        print('Lista de clientes preferentes')\n",
    "        for clave, valor in clientes.items():\n",
    "            if valor['preferente']:\n",
    "                print(clave, valor['nombre'])\n",
    "    opcion = input(\"Que quieres hacer? \\n\"\n",
    "                       \"(1) Añadir cliente \\n\"\n",
    "                       \"(2) Eliminar cliente \\n\"\n",
    "                       \"(3) Mostrar cliente \\n\"\n",
    "                       \"(4) Listar todos los clientes \\n\"\n",
    "                       \"(5) Listar clientes preferentes \\n\"\n",
    "                       \"(6) Terminar: \")"
   ]
  },
  {
   "cell_type": "markdown",
   "id": "02da7d66",
   "metadata": {},
   "source": [
    "#### Gestor cobros de facturas"
   ]
  },
  {
   "cell_type": "code",
   "execution_count": 3,
   "id": "0f32d0d8",
   "metadata": {},
   "outputs": [
    {
     "name": "stdout",
     "output_type": "stream",
     "text": [
      "Recaudado: 0\n",
      "Pendiente de cobro:  0\n",
      "¿Quieres añadir una nueva factura (A), pagarla (P) o terminar (T)? A\n",
      "Introduce el número de la factura: 4578\n",
      "Introduce el coste de la factura: 2500\n",
      "Recaudado: 0\n",
      "Pendiente de cobro:  2500.0\n",
      "¿Quieres añadir una nueva factura (A), pagarla (P) o terminar (T)? P\n",
      "Introduce el número de la factura a pagar: 4578\n",
      "Recaudado: 2500.0\n",
      "Pendiente de cobro:  0.0\n",
      "¿Quieres añadir una nueva factura (A), pagarla (P) o terminar (T)? T\n"
     ]
    }
   ],
   "source": [
    "facturas = {}\n",
    "cobrado = 0\n",
    "pendiente = 0\n",
    "more = ''\n",
    "while more != 'T':\n",
    "    if more == 'A':\n",
    "        clave = input('Introduce el número de la factura: ')\n",
    "        coste = float(input('Introduce el coste de la factura: '))\n",
    "        facturas[clave] = coste\n",
    "        pendiente += coste\n",
    "    if more == 'P':\n",
    "        clave = input('Introduce el número de la factura a pagar: ')\n",
    "        coste = facturas.pop(clave, 0)\n",
    "        cobrado += coste\n",
    "        pendiente -= coste\n",
    "    print('Recaudado:', cobrado)\n",
    "    print('Pendiente de cobro: ', pendiente)\n",
    "    more = input('¿Quieres añadir una nueva factura (A), pagarla (P) o terminar (T)? ')"
   ]
  },
  {
   "cell_type": "code",
   "execution_count": null,
   "id": "d9b4e347",
   "metadata": {},
   "outputs": [],
   "source": []
  }
 ],
 "metadata": {
  "kernelspec": {
   "display_name": "Python 3 (ipykernel)",
   "language": "python",
   "name": "python3"
  },
  "language_info": {
   "codemirror_mode": {
    "name": "ipython",
    "version": 3
   },
   "file_extension": ".py",
   "mimetype": "text/x-python",
   "name": "python",
   "nbconvert_exporter": "python",
   "pygments_lexer": "ipython3",
   "version": "3.10.9"
  },
  "varInspector": {
   "cols": {
    "lenName": 16,
    "lenType": 16,
    "lenVar": 40
   },
   "kernels_config": {
    "python": {
     "delete_cmd_postfix": "",
     "delete_cmd_prefix": "del ",
     "library": "var_list.py",
     "varRefreshCmd": "print(var_dic_list())"
    },
    "r": {
     "delete_cmd_postfix": ") ",
     "delete_cmd_prefix": "rm(",
     "library": "var_list.r",
     "varRefreshCmd": "cat(var_dic_list()) "
    }
   },
   "types_to_exclude": [
    "module",
    "function",
    "builtin_function_or_method",
    "instance",
    "_Feature"
   ],
   "window_display": false
  }
 },
 "nbformat": 4,
 "nbformat_minor": 5
}
