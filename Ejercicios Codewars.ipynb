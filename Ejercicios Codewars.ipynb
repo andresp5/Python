{
 "cells": [
  {
   "cell_type": "markdown",
   "id": "d25ed7b7",
   "metadata": {},
   "source": [
    "##### Su objetivo en este kata es implementar una función de diferencia, que resta una lista de otra y devuelve el resultado.Debe eliminar todos los valores de la lista a, que están presentes en la lista b manteniendo su orden. Si un valor está presente en b, todas sus ocurrencias deben eliminarse del otro:\n"
   ]
  },
  {
   "cell_type": "raw",
   "id": "8c36a524",
   "metadata": {},
   "source": [
    "array_diff([1,2],[1]) == [2]\n",
    "array_diff([1,2,2,2,3],[2]) == [1,3]"
   ]
  },
  {
   "cell_type": "code",
   "execution_count": 1,
   "id": "71dde93f",
   "metadata": {},
   "outputs": [
    {
     "name": "stdout",
     "output_type": "stream",
     "text": [
      "[2, 2]\n"
     ]
    }
   ],
   "source": [
    "a = [1,2,2]\n",
    "b = [1]\n",
    "def array_diff(a, b):\n",
    "    new_list = []\n",
    "    for n in range(len(a)):\n",
    "        if a[n] not in b:\n",
    "            new_list.append(a[n])\n",
    "    return new_list\n",
    "\n",
    "print(array_diff(a,b))"
   ]
  },
  {
   "cell_type": "markdown",
   "id": "688e919d",
   "metadata": {},
   "source": [
    "#### Escriba una función que tome una cadena de una o más palabras y devuelva la misma cadena, pero con las palabras de cinco o más letras invertidas (al igual que el nombre de este Kata). Las cadenas pasadas consistirán solo en letras y espacios. Los espacios se incluirán solo cuando haya más de una palabra presente."
   ]
  },
  {
   "cell_type": "raw",
   "id": "e66023d0",
   "metadata": {},
   "source": [
    "Ejemplos:\n",
    "spinWords( \"Hey fellow warriors\" ) => returns \"Hey wollef sroirraw\" \n",
    "spinWords( \"This is a test\") => returns \"This is a test\" \n",
    "spinWords( \"This is another test\" )=> returns \"This is rehtona test\""
   ]
  },
  {
   "cell_type": "code",
   "execution_count": 2,
   "id": "c7fbd789",
   "metadata": {},
   "outputs": [
    {
     "name": "stdout",
     "output_type": "stream",
     "text": [
      "Hey wollef sroirraw\n"
     ]
    }
   ],
   "source": [
    "sentence = \"Hey fellow warriors\"\n",
    "def spin_words(sentence):\n",
    "    sentence = sentence.split()\n",
    "    new_sentence = []\n",
    "    for w in range(len(sentence)):\n",
    "        if len(sentence[w]) >= 5:\n",
    "            palabra_invertida = sentence[w]\n",
    "            palabra_invertida = palabra_invertida[::-1]\n",
    "            new_sentence.append(palabra_invertida)\n",
    "        else:\n",
    "            new_sentence.append(sentence[w])\n",
    "    return \" \".join(new_sentence)\n",
    "\n",
    "print(spin_words(sentence))"
   ]
  },
  {
   "cell_type": "markdown",
   "id": "502da31d",
   "metadata": {},
   "source": [
    "#### Un niño está jugando con una pelota en el piso n de un edificio alto. Se conoce la altura de este piso sobre el nivel del suelo, h.Deja caer la pelota por la ventana. La pelota rebota (por ejemplo), a dos tercios de su altura (un rebote de 0,66). Su madre mira por una ventana a 1,5 metros del suelo. ¿Cuántas veces verá la madre pasar la pelota frente a su ventana (incluyendo cuando está cayendo y rebotando?"
   ]
  },
  {
   "cell_type": "raw",
   "id": "711a2f99",
   "metadata": {},
   "source": [
    "Se deben cumplir tres condiciones para que un experimento sea válido:\n",
    "El parámetro flotante \"h\" en metros debe ser mayor que 0\n",
    "El parámetro flotante \"rebote\" debe ser mayor que 0 y menor que 1\n",
    "El parámetro flotante \"ventana\" debe ser menor que h.\n",
    "Si se cumplen las tres condiciones anteriores, devuelva un número entero positivo; de lo contrario, devuelva -1.\n",
    "\n",
    "Nota:\n",
    "La pelota solo se puede ver si la altura de la pelota que rebota es estrictamente mayor que el parámetro de la ventana.\n",
    "\n",
    "- h = 3, bounce = 0.66, window = 1.5, result is 3\n",
    "\n",
    "- h = 3, bounce = 1, window = 1.5, result is -1 \n",
    "\n",
    "(Condition 2) not fulfilled)."
   ]
  },
  {
   "cell_type": "code",
   "execution_count": 3,
   "id": "6cb5efee",
   "metadata": {},
   "outputs": [
    {
     "name": "stdout",
     "output_type": "stream",
     "text": [
      "1\n"
     ]
    }
   ],
   "source": [
    "h = 2\n",
    "bounce = 0.5\n",
    "window = 1\n",
    "def bouncing_ball(h, bounce, window):\n",
    "    seen = -1  \n",
    "    if 0 < bounce < 1:\n",
    "        while h > window > 0:\n",
    "            seen += 2\n",
    "            h *= bounce\n",
    "    \n",
    "    return seen\n",
    "\n",
    "print(bouncing_ball(h, bounce, window))"
   ]
  },
  {
   "cell_type": "markdown",
   "id": "65a7e263",
   "metadata": {},
   "source": [
    "#### Sin considerar el número 1, el entero 153 es el primer entero que tiene esta propiedad: la suma de la tercera potencia de cada uno de sus dígitos es igual a 153. Fíjate: 153 = 1³ + 5³ + 3³ = 1 + 125 + 27 = 153El siguiente número que experimenta este comportamiento particular es 370 con la misma potencia.Escribe la función eq_sum_powdig(), que encuentra los números por debajo de un límite superior dado hMax (inclusive) que cumple esta propiedad pero con diferentes exponentes como la potencia de los dígitos.eq_sum_powdig(hMax, exp): ----> secuencia de números (lista ordenada) (No se debe considerar el número uno)."
   ]
  },
  {
   "cell_type": "code",
   "execution_count": 4,
   "id": "aa5f2b90",
   "metadata": {},
   "outputs": [
    {
     "name": "stdout",
     "output_type": "stream",
     "text": [
      "[153, 370]\n"
     ]
    }
   ],
   "source": [
    "hMax = 370\n",
    "exp = 3\n",
    "def eq_sum_powdig(hMax, exp):\n",
    "    new_list = []\n",
    "    for n in range(2, hMax+1):\n",
    "        v1 = str(n)\n",
    "        total = 0\n",
    "        for x in range(len(v1)):\n",
    "            valor = int(v1[x]) ** exp\n",
    "            total += valor\n",
    "        if total == int(v1):\n",
    "            new_list.append(int(v1))\n",
    "\n",
    "    return new_list\n",
    "\n",
    "print(eq_sum_powdig(hMax, exp))"
   ]
  },
  {
   "cell_type": "markdown",
   "id": "c2177a93",
   "metadata": {},
   "source": [
    "#### Se le dará una serie de números. Tienes que ordenar los números impares en orden ascendente y dejar los números pares en sus posiciones originales."
   ]
  },
  {
   "cell_type": "raw",
   "id": "1442326e",
   "metadata": {},
   "source": [
    "Examples\n",
    "[7, 1]  =>  [1, 7]\n",
    "[5, 8, 6, 3, 4]  =>  [3, 8, 6, 5, 4]\n",
    "[9, 8, 7, 6, 5, 4, 3, 2, 1, 0]  =>  [1, 8, 3, 6, 5, 4, 7, 2, 9, 0]"
   ]
  },
  {
   "cell_type": "code",
   "execution_count": 5,
   "id": "1ac1f376",
   "metadata": {},
   "outputs": [
    {
     "name": "stdout",
     "output_type": "stream",
     "text": [
      "[1, 8, 3, 6, 5, 4, 7, 2, 9, 0]\n"
     ]
    }
   ],
   "source": [
    "source_array = [9, 8, 7, 6, 5, 4, 3, 2, 1, 0]\n",
    "\n",
    "def sort_array(source_array):\n",
    "    impares = []\n",
    "    contador= 0\n",
    "    for n in range(len(source_array)):\n",
    "        if source_array[n] % 2 != 0:\n",
    "            impares.append(source_array[n])\n",
    "    impares.sort()\n",
    "    for n in range(len(source_array)):\n",
    "        if source_array[n] % 2 != 0:\n",
    "            source_array[n] = impares[contador]\n",
    "            contador += 1\n",
    "\n",
    "    return source_array\n",
    "\n",
    "print(sort_array(source_array))"
   ]
  },
  {
   "cell_type": "markdown",
   "id": "5c7e510e",
   "metadata": {},
   "source": [
    "#### Implemente la función unique_in_order que toma como argumento una secuencia y devuelve una lista de elementos sin ningún elemento con el mismo valor uno al lado del otro y conservando el orden original de los elementos."
   ]
  },
  {
   "cell_type": "raw",
   "id": "92d5a3dc",
   "metadata": {},
   "source": [
    "unique_in_order('AAAABBBCCDAABBB') == ['A', 'B', 'C', 'D', 'A', 'B']\n",
    "unique_in_order('ABBCcAD')         == ['A', 'B', 'C', 'c', 'A', 'D']\n",
    "unique_in_order([1, 2, 2, 3, 3])   == [1, 2, 3]\n",
    "unique_in_order((1, 2, 2, 3, 3))   == [1, 2, 3]"
   ]
  },
  {
   "cell_type": "code",
   "execution_count": 6,
   "id": "94795aec",
   "metadata": {},
   "outputs": [
    {
     "name": "stdout",
     "output_type": "stream",
     "text": [
      "['A', 'B', 'C', 'D', 'A', 'B']\n"
     ]
    }
   ],
   "source": [
    "sequence = 'AAAABBBCCDAABBB'\n",
    "def unique_in_order(sequence):\n",
    "  sequence = list(sequence)\n",
    "  new_list= []\n",
    "  for i in range(len(sequence)-1):\n",
    "    while True:\n",
    "      if sequence[i] != sequence[i+1]:\n",
    "        new_list.append(sequence[i])\n",
    "      break\n",
    "  if len(sequence)>0:\n",
    "    new_list.append(sequence[-1])\n",
    "  return new_list\n",
    "\n",
    "print(unique_in_order(sequence))"
   ]
  },
  {
   "cell_type": "markdown",
   "id": "f6533f1c",
   "metadata": {},
   "source": [
    "#### Si enumeramos todos los números naturales debajo de 10 que son múltiplos de 3 o 5, obtenemos 3, 5, 6 y 9. La suma de estos múltiplos es 23.Termina la solución para que devuelva la suma de todos los múltiplos de 3 o 5 por debajo del número pasado. Además, si el número es negativo, devuelve 0 (para los idiomas que los tienen).Nota: si el número es un múltiplo de 3 y 5, solo cuéntelo una vez."
   ]
  },
  {
   "cell_type": "code",
   "execution_count": 7,
   "id": "99a50225",
   "metadata": {},
   "outputs": [
    {
     "name": "stdout",
     "output_type": "stream",
     "text": [
      "233168\n"
     ]
    }
   ],
   "source": [
    "number = 1000\n",
    "\n",
    "def solution(number):\n",
    "    new_list = 0\n",
    "    for n in range(number):\n",
    "        if n % 3 == 0 or n % 5 == 0:\n",
    "            new_list += n\n",
    "    return new_list\n",
    "\n",
    "print(solution(number))"
   ]
  },
  {
   "cell_type": "markdown",
   "id": "e67d8aa8",
   "metadata": {},
   "source": [
    "#### Cree una función que tome un entero positivo entre 1 y 3999 (ambos incluidos) como su parámetro y devuelva una cadena que contenga la representación en números romanos de ese entero.Los números romanos modernos se escriben expresando cada dígito por separado, comenzando con el dígito más a la izquierda y omitiendo cualquier dígito con un valor de cero. En números romanos, 1990 se representa: 1000=M, 900=CM, 90=XC; resultando en MCMXC. 2008 se escribe como 2000=MM, 8=VIII; o MMVIII. 1666 utiliza cada símbolo romano en orden descendente: MDCLXVI."
   ]
  },
  {
   "cell_type": "code",
   "execution_count": 8,
   "id": "1bbd6538",
   "metadata": {},
   "outputs": [
    {
     "name": "stdout",
     "output_type": "stream",
     "text": [
      "MMDXCVIII\n"
     ]
    }
   ],
   "source": [
    "n = 2598\n",
    "\n",
    "def convertir_a_romano(n):\n",
    "    valores = [\n",
    "        1000, 900, 500, 400,\n",
    "        100, 90, 50, 40,\n",
    "        10, 9, 5, 4, 1\n",
    "    ]\n",
    "    simbolos = [\n",
    "        \"M\", \"CM\", \"D\", \"CD\",\n",
    "        \"C\", \"XC\", \"L\", \"XL\",\n",
    "        \"X\", \"IX\", \"V\", \"IV\",\n",
    "        \"I\"\n",
    "    ]\n",
    "    resultado = \"\"\n",
    "    i = 0\n",
    "\n",
    "    while n > 0:\n",
    "        if n >= valores[i]:\n",
    "            resultado += simbolos[i]\n",
    "            n -= valores[i]\n",
    "        else:\n",
    "            i += 1\n",
    "\n",
    "    return resultado\n",
    "\n",
    "print(convertir_a_romano(n))"
   ]
  },
  {
   "cell_type": "markdown",
   "id": "6cfd4608",
   "metadata": {},
   "source": [
    "#### Complete la solución para que divida la cadena en pares de dos caracteres. Si la cadena contiene un número impar de caracteres, debe reemplazar el segundo carácter faltante del par final con un guión bajo ('_')."
   ]
  },
  {
   "cell_type": "code",
   "execution_count": 9,
   "id": "04677d45",
   "metadata": {},
   "outputs": [
    {
     "name": "stdout",
     "output_type": "stream",
     "text": [
      "['as', 'df', 'gñ', 'lk', 'j_']\n"
     ]
    }
   ],
   "source": [
    "s= \"asdfgñlkj\"\n",
    "\n",
    "def solution(s):\n",
    "\n",
    "    for l in range(0, len(s),2):\n",
    "        yield s[l:l + 2]    \n",
    "\n",
    "output = list(solution(s))\n",
    "\n",
    "for f in range(len(output)):\n",
    "    if len(output[f]) != 2:\n",
    "        v1 = output[f]+\"_\"\n",
    "        output.pop(f)\n",
    "        output.append(v1)\n",
    "\n",
    "print(output)"
   ]
  },
  {
   "cell_type": "markdown",
   "id": "a26a4604",
   "metadata": {},
   "source": [
    "#### Complete el método/función para que convierta las palabras delimitadas por guiones/guiones bajos en mayúsculas y minúsculas. La primera palabra dentro de la salida debe estar en mayúsculas solo si la palabra original estaba en mayúsculas (conocido como Upper Camel Case, también conocido como caso Pascal). Las siguientes palabras deben estar siempre en mayúscula."
   ]
  },
  {
   "cell_type": "code",
   "execution_count": 10,
   "id": "aa1aa9a7",
   "metadata": {},
   "outputs": [
    {
     "name": "stdout",
     "output_type": "stream",
     "text": [
      "theStealthWarrior\n"
     ]
    }
   ],
   "source": [
    "text = \"the-stealth-warrior\"\n",
    "\n",
    "def to_camel_case(text):\n",
    "    if \"-\" or \"_\" in text:\n",
    "        lista = text.split('-')\n",
    "        s = ' '.join(str(x) for x in lista)\n",
    "        if not text[0].isupper():\n",
    "            s = s.title()\n",
    "            camel = s.replace(s[0],s[0].lower())\n",
    "            s = camel.split(\" \")\n",
    "            s = ''.join(str(x) for x in s)\n",
    "        else:\n",
    "            s = s.title()\n",
    "            s = s.split(\" \")\n",
    "            s = ''.join(str(x) for x in s)\n",
    "    \n",
    "        return s\n",
    "    \n",
    "print(to_camel_case(text))"
   ]
  },
  {
   "cell_type": "markdown",
   "id": "6ae71da5",
   "metadata": {},
   "source": [
    "#### Un isograma es una palabra que no tiene letras repetidas, consecutivas o no consecutivas. Implemente una función que determine si una cadena que contiene solo letras es un isograma. Suponga que la cadena vacía es un isograma. Ignorar mayúsculas y minúsculas."
   ]
  },
  {
   "cell_type": "code",
   "execution_count": 11,
   "id": "e88128d5",
   "metadata": {},
   "outputs": [
    {
     "name": "stdout",
     "output_type": "stream",
     "text": [
      "False\n"
     ]
    }
   ],
   "source": [
    "string = \"Aba\"\n",
    "\n",
    "def is_isogram(string):\n",
    "    string = string.lower()\n",
    "    nueva_palabra = \"\"\n",
    "    for l in string:\n",
    "        if l not in nueva_palabra:\n",
    "            nueva_palabra += l\n",
    "    if nueva_palabra == string:\n",
    "        return True\n",
    "    else:\n",
    "        return False\n",
    "\n",
    "print(is_isogram(string))"
   ]
  },
  {
   "cell_type": "code",
   "execution_count": 12,
   "id": "c9e05ebd",
   "metadata": {},
   "outputs": [
    {
     "name": "stdout",
     "output_type": "stream",
     "text": [
      "False\n"
     ]
    }
   ],
   "source": [
    "string = \"Aba\"\n",
    "\n",
    "def is_isogram(string):\n",
    "    return len(string) == len(set(string.lower())) # La función set no admite elementos duplicados\n",
    "\n",
    "print(is_isogram(string))"
   ]
  },
  {
   "cell_type": "markdown",
   "id": "81779ae6",
   "metadata": {},
   "source": [
    "#### Te van a dar una palabra. Su trabajo es devolver el carácter medio de la palabra. Si la longitud de la palabra es impar, devuelve el carácter del medio. Si la longitud de la palabra es par, devuelve los 2 caracteres del medio."
   ]
  },
  {
   "cell_type": "code",
   "execution_count": 13,
   "id": "8bd99701",
   "metadata": {},
   "outputs": [
    {
     "name": "stdout",
     "output_type": "stream",
     "text": [
      "t\n"
     ]
    }
   ],
   "source": [
    "s = \"testing\"\n",
    "\n",
    "def get_middle(s):\n",
    "\n",
    "    largo = len(s)\n",
    "\n",
    "    if largo % 2 == 0:\n",
    "        return s[(int(largo/2))-1]+s[int(largo/2)]\n",
    "    else:\n",
    "        return s[int(largo/2)]\n",
    "    pass\n",
    "\n",
    "\n",
    "print(get_middle(s))"
   ]
  },
  {
   "cell_type": "markdown",
   "id": "9e63cc9a",
   "metadata": {},
   "source": [
    "#### Escriba una función que tome un número entero como entrada y devuelva el número de bits que son iguales a uno en la representación binaria de ese número. Puede garantizar que la entrada no sea negativa."
   ]
  },
  {
   "cell_type": "code",
   "execution_count": 14,
   "id": "7c3e3724",
   "metadata": {},
   "outputs": [
    {
     "name": "stdout",
     "output_type": "stream",
     "text": [
      "4\n"
     ]
    }
   ],
   "source": [
    "n = 29 # este es el número que queremos convertir a binario\n",
    "\n",
    "def count_bits(n):\n",
    "    veces_1 = 0\n",
    "    modulos = []  # la lista para guardar los módulos\n",
    "\n",
    "    while n != 0:  # mientras el número de entrada sea diferente de cero\n",
    "        # paso 1: dividimos entre 2\n",
    "        modulo = n % 2\n",
    "        cociente = n // 2\n",
    "        modulos.append(modulo)  # guardamos el módulo calculado\n",
    "        n = cociente  # el cociente pasa a ser el número de entrada\n",
    "\n",
    "    for n in modulos:\n",
    "        if n == 1:\n",
    "            veces_1 += 1\n",
    "    return veces_1\n",
    "\n",
    "print(count_bits(n))"
   ]
  },
  {
   "cell_type": "markdown",
   "id": "b85a0a8a",
   "metadata": {},
   "source": [
    "#### Jaden Smith, el hijo de Will Smith, es la estrella de películas como The Karate Kid (2010) y After Earth (2013). Jaden también es conocido por parte de su filosofía que transmite a través de Twitter. Cuando escribe en Twitter, es conocido por escribir casi siempre con mayúscula cada palabra. Para simplificar, tendrá que poner cada palabra en mayúsculas, verifique cómo se espera que sean las contracciones en el ejemplo a continuación. Su tarea es convertir las cadenas a cómo las escribiría Jaden Smith. Las cadenas son citas reales de Jaden Smith, pero no están en mayúsculas de la misma forma en que las escribió originalmente."
   ]
  },
  {
   "cell_type": "code",
   "execution_count": 15,
   "id": "d7fd53be",
   "metadata": {},
   "outputs": [
    {
     "name": "stdout",
     "output_type": "stream",
     "text": [
      "If There Is Bread Winners, There Is Bread Losers.but You Can't Toast What Isn't Real.\n"
     ]
    }
   ],
   "source": [
    "string = \"If there Is Bread Winners, there Is Bread Losers.But You Can't toast What Isn't Real.\"\n",
    "def to_jaden_case(string):\n",
    "    list = string.split()\n",
    "    new_list = [i.capitalize() for i in list]\n",
    "    return ' '.join(new_list)\n",
    "\n",
    "print(to_jaden_case(string))"
   ]
  },
  {
   "cell_type": "markdown",
   "id": "5177c53a",
   "metadata": {},
   "source": [
    "#### En este kata, creará una función que toma una lista de enteros y cadenas no negativos y devuelve una nueva lista con las cadenas filtradas."
   ]
  },
  {
   "cell_type": "code",
   "execution_count": 16,
   "id": "18c49aaf",
   "metadata": {},
   "outputs": [
    {
     "name": "stdout",
     "output_type": "stream",
     "text": [
      "[111, 2]\n"
     ]
    }
   ],
   "source": [
    "l = [111,2,'a','b']\n",
    "\n",
    "def filter_list(l):\n",
    "    new_list =[]\n",
    "    for x in l:\n",
    "        if type(x) != str:\n",
    "            new_list.append(x)\n",
    "    return new_list\n",
    "\n",
    "print(filter_list(l))"
   ]
  },
  {
   "cell_type": "markdown",
   "id": "e80ee8af",
   "metadata": {},
   "source": [
    "#### Los cajeros automáticos permiten códigos PIN de 4 o 6 dígitos y los códigos PIN no pueden contener nada más que exactamente 4 dígitos o exactamente 6 dígitos. Si a la función se le pasa una cadena de PIN válida, devuelve verdadero, de lo contrario, devuelve falso."
   ]
  },
  {
   "cell_type": "code",
   "execution_count": 17,
   "id": "3b49ba6c",
   "metadata": {},
   "outputs": [
    {
     "name": "stdout",
     "output_type": "stream",
     "text": [
      "False\n"
     ]
    }
   ],
   "source": [
    "pin = \"12.343\"\n",
    "\n",
    "def validate_pin(pin):\n",
    "    if (pin.isdecimal() and len(pin) == 4) or (pin.isdecimal() and len(pin) == 6):\n",
    "        return True\n",
    "    else:\n",
    "        return False\n",
    "\n",
    "print(validate_pin(pin))"
   ]
  },
  {
   "cell_type": "code",
   "execution_count": null,
   "id": "297d30a0",
   "metadata": {},
   "outputs": [],
   "source": []
  },
  {
   "cell_type": "code",
   "execution_count": null,
   "id": "e2638e3c",
   "metadata": {},
   "outputs": [],
   "source": []
  },
  {
   "cell_type": "code",
   "execution_count": null,
   "id": "c3ccd7c4",
   "metadata": {},
   "outputs": [],
   "source": []
  },
  {
   "cell_type": "code",
   "execution_count": null,
   "id": "211e2219",
   "metadata": {},
   "outputs": [],
   "source": []
  },
  {
   "cell_type": "code",
   "execution_count": null,
   "id": "eebdc2e8",
   "metadata": {},
   "outputs": [],
   "source": []
  },
  {
   "cell_type": "code",
   "execution_count": null,
   "id": "b8142a02",
   "metadata": {},
   "outputs": [],
   "source": []
  },
  {
   "cell_type": "code",
   "execution_count": null,
   "id": "0dac6c4d",
   "metadata": {},
   "outputs": [],
   "source": []
  },
  {
   "cell_type": "code",
   "execution_count": null,
   "id": "149f2406",
   "metadata": {},
   "outputs": [],
   "source": []
  },
  {
   "cell_type": "code",
   "execution_count": null,
   "id": "106f67fe",
   "metadata": {},
   "outputs": [],
   "source": []
  },
  {
   "cell_type": "code",
   "execution_count": null,
   "id": "9850d253",
   "metadata": {},
   "outputs": [],
   "source": []
  },
  {
   "cell_type": "code",
   "execution_count": null,
   "id": "afedb54c",
   "metadata": {},
   "outputs": [],
   "source": []
  }
 ],
 "metadata": {
  "kernelspec": {
   "display_name": "Python 3 (ipykernel)",
   "language": "python",
   "name": "python3"
  },
  "language_info": {
   "codemirror_mode": {
    "name": "ipython",
    "version": 3
   },
   "file_extension": ".py",
   "mimetype": "text/x-python",
   "name": "python",
   "nbconvert_exporter": "python",
   "pygments_lexer": "ipython3",
   "version": "3.10.9"
  },
  "varInspector": {
   "cols": {
    "lenName": 16,
    "lenType": 16,
    "lenVar": 40
   },
   "kernels_config": {
    "python": {
     "delete_cmd_postfix": "",
     "delete_cmd_prefix": "del ",
     "library": "var_list.py",
     "varRefreshCmd": "print(var_dic_list())"
    },
    "r": {
     "delete_cmd_postfix": ") ",
     "delete_cmd_prefix": "rm(",
     "library": "var_list.r",
     "varRefreshCmd": "cat(var_dic_list()) "
    }
   },
   "types_to_exclude": [
    "module",
    "function",
    "builtin_function_or_method",
    "instance",
    "_Feature"
   ],
   "window_display": false
  }
 },
 "nbformat": 4,
 "nbformat_minor": 5
}
